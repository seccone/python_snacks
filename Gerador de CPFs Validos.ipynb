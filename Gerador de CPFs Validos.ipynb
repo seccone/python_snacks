{
 "cells": [
  {
   "cell_type": "code",
   "execution_count": 1,
   "id": "29cc9d48-8742-48bd-9f92-f698b81f49bb",
   "metadata": {},
   "outputs": [],
   "source": [
    "from random import randint"
   ]
  },
  {
   "cell_type": "code",
   "execution_count": 2,
   "id": "854673fc-d59b-4522-94e9-ee1faf9c979c",
   "metadata": {},
   "outputs": [],
   "source": [
    "def calcula_dv(base: str, printdv: bool) -> str:\n",
    "    \"\"\" Calculates a 'verifier digit' using the official formula from Receita Federal do Brasil \"\"\"\n",
    "    base = base[::-1]\n",
    "    dv = 0\n",
    "    for i in range(len(base)):\n",
    "        dv += int(base[i]) * (2+i)\n",
    "    dv = 11 - dv % 11\n",
    "    if printdv: print(\"DV original: \", dv)\n",
    "    if dv>9: dv=0\n",
    "    return str(dv)"
   ]
  },
  {
   "cell_type": "code",
   "execution_count": 3,
   "id": "bbc051c2-e80f-442d-b0d4-568e99bdd962",
   "metadata": {},
   "outputs": [
    {
     "name": "stdin",
     "output_type": "stream",
     "text": [
      "Digite a Região Fiscal (1 a 10): 10\n"
     ]
    }
   ],
   "source": [
    "# The rightmost digit of the CPF base number is always the number of the \"Fiscal Region\" (there are 10)\n",
    "regiao = input(\"Digite a Região Fiscal (1 a 10):\")\n",
    "x = int(regiao)\n",
    "if x<1: regiao=\"1\"\n",
    "elif x>10: regiao=\"0\""
   ]
  },
  {
   "cell_type": "code",
   "execution_count": 4,
   "id": "f085b97e-e69b-42c6-adae-1b2f5c3ebcb3",
   "metadata": {},
   "outputs": [],
   "source": [
    "# Generate a CPF base number with random \n",
    "# digits (except for the rightmost one, which identifies the Region):\n",
    "base = regiao\n",
    "for i in range(8):\n",
    "    base = str(randint(0,9)) + base"
   ]
  },
  {
   "cell_type": "code",
   "execution_count": 5,
   "id": "4affcd50-c749-4752-bbc1-2e640c2611d7",
   "metadata": {},
   "outputs": [],
   "source": [
    "cpf = base"
   ]
  },
  {
   "cell_type": "code",
   "execution_count": 6,
   "id": "37d35450-8cd8-49a7-aa57-02c772fd42ac",
   "metadata": {},
   "outputs": [
    {
     "name": "stdout",
     "output_type": "stream",
     "text": [
      "DV original:  5\n",
      "DV original:  6\n"
     ]
    }
   ],
   "source": [
    "cpf += calcula_dv(cpf, True)\n",
    "cpf += calcula_dv(cpf, True)"
   ]
  },
  {
   "cell_type": "code",
   "execution_count": 7,
   "id": "b9d7cd34-3441-4339-bf9c-f3de098f9a5f",
   "metadata": {},
   "outputs": [
    {
     "name": "stdout",
     "output_type": "stream",
     "text": [
      "CPF completo: 574.907.381-056\n"
     ]
    }
   ],
   "source": [
    "print(\"CPF completo: {}.{}.{}-{}\".format(cpf[:3], cpf[3:6], cpf[6:9], cpf[9:]))"
   ]
  },
  {
   "cell_type": "code",
   "execution_count": 8,
   "id": "dd109821-c0d6-4d13-a687-e6b68f6913a0",
   "metadata": {},
   "outputs": [
    {
     "data": {
      "text/plain": [
       "55"
      ]
     },
     "execution_count": 8,
     "metadata": {},
     "output_type": "execute_result"
    }
   ],
   "source": [
    "# A soma vai dar sempre 32, 33, 34, 43, 44, 45, 54, 55, ou 56.\n",
    "# Depois explorar a base matemática.\n",
    "x = 0 \n",
    "for c in cpf:\n",
    "    x += int(c)\n",
    "x"
   ]
  },
  {
   "cell_type": "code",
   "execution_count": null,
   "id": "a26d2c30-49da-4751-a053-4e47f2e6be03",
   "metadata": {},
   "outputs": [],
   "source": []
  }
 ],
 "metadata": {
  "kernelspec": {
   "display_name": "Python 3 (ipykernel)",
   "language": "python",
   "name": "python3"
  },
  "language_info": {
   "codemirror_mode": {
    "name": "ipython",
    "version": 3
   },
   "file_extension": ".py",
   "mimetype": "text/x-python",
   "name": "python",
   "nbconvert_exporter": "python",
   "pygments_lexer": "ipython3",
   "version": "3.7.3"
  }
 },
 "nbformat": 4,
 "nbformat_minor": 5
}
