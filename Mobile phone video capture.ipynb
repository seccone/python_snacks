{
 "cells": [
  {
   "cell_type": "code",
   "execution_count": null,
   "id": "ecee406e-e8c4-49f6-a6c9-0dd53547ecdf",
   "metadata": {},
   "outputs": [],
   "source": [
    "import cv2"
   ]
  },
  {
   "cell_type": "markdown",
   "id": "bfd472a6-c69a-4c4f-a3dd-d7bbabcfdebc",
   "metadata": {},
   "source": [
    "## Instructions:\n",
    "\n",
    "* Install \"IP Webcam\" app from Google Play Store or Apple Store, and run it\n",
    "* IMPORTANT: For this simple code, it is necessary that your mobile is in the same LAN of the machine running this code\n",
    "* Activate \"Start Server\" at the bottom of the initial screen of the app\n",
    "* Edit the \"url\" string below, putting the IP addres of your mobile (it will appear in the video on the mobile screen)"
   ]
  },
  {
   "cell_type": "code",
   "execution_count": null,
   "id": "426c8dd2-add9-4329-9b81-a2cfbce08989",
   "metadata": {},
   "outputs": [],
   "source": [
    "url = \"http://192.168.1.232:8080/video\""
   ]
  },
  {
   "cell_type": "code",
   "execution_count": null,
   "id": "a853f4ac-d0ae-417d-97c5-e78fe66d311b",
   "metadata": {},
   "outputs": [],
   "source": [
    "# Starting video capture from the mobile:\n",
    "cap = cv2.VideoCapture(url)"
   ]
  },
  {
   "cell_type": "code",
   "execution_count": null,
   "id": "3ae7e607-0eb2-401a-bd62-41a095384a8c",
   "metadata": {},
   "outputs": [],
   "source": [
    "print('Running until you press \"q\" on the keyboard (this does not work on Jupyter Notebooks)')\n",
    "\n",
    "while(True):\n",
    "    camera, frame = cap.read()\n",
    "    if camera:\n",
    "        cv2.imshow(\"Phone Camera\", frame)\n",
    "    q = cv2.waitKey(15)\n",
    "    if q==ord(\"q\"):\n",
    "        break\n",
    "    \n"
   ]
  },
  {
   "cell_type": "code",
   "execution_count": null,
   "id": "2392dd1e-f6ec-4f49-903b-299cf8d539cb",
   "metadata": {},
   "outputs": [],
   "source": [
    "cv2.destroyAllWindows()"
   ]
  },
  {
   "cell_type": "code",
   "execution_count": null,
   "id": "c3756bbb-c9d3-404f-8dba-d979d91e19d7",
   "metadata": {},
   "outputs": [],
   "source": []
  }
 ],
 "metadata": {
  "kernelspec": {
   "display_name": "Python 3 (ipykernel)",
   "language": "python",
   "name": "python3"
  },
  "language_info": {
   "codemirror_mode": {
    "name": "ipython",
    "version": 3
   },
   "file_extension": ".py",
   "mimetype": "text/x-python",
   "name": "python",
   "nbconvert_exporter": "python",
   "pygments_lexer": "ipython3",
   "version": "3.7.3"
  }
 },
 "nbformat": 4,
 "nbformat_minor": 5
}
