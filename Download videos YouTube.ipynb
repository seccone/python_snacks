{
 "cells": [
  {
   "cell_type": "code",
   "execution_count": null,
   "id": "413a33c1-ecf1-474d-87bd-2c96a65aa384",
   "metadata": {},
   "outputs": [],
   "source": [
    "from pytube import YouTube"
   ]
  },
  {
   "cell_type": "code",
   "execution_count": null,
   "id": "f58d6b7e-d943-4f89-b2d4-2633459f5ce4",
   "metadata": {},
   "outputs": [],
   "source": [
    "video_url = input('Enter the URL of the YouTube video:')\n",
    "yt = YouTube(video_url)"
   ]
  },
  {
   "cell_type": "code",
   "execution_count": null,
   "id": "608d1ad7-8f5d-414d-939a-29fbfd722d9d",
   "metadata": {},
   "outputs": [],
   "source": [
    "print(\"Title :\", yt.title)\n",
    "print(\"Views :\", yt.views) # Quantidade de views\n",
    "print(\"Duration :\", yt.length)\n",
    "print(\"Description :\", yt.description)\n",
    "print(\"Ratings :\", yt.rating)"
   ]
  },
  {
   "cell_type": "code",
   "execution_count": null,
   "id": "bd046675-e218-4db8-82ee-bb8af8009335",
   "metadata": {},
   "outputs": [],
   "source": [
    "stream = yt.streams.get_highest_resolution()\n",
    "try:\n",
    "    stream.download()\n",
    "except:\n",
    "    print(\"Erro no download!\")\n",
    "else:\n",
    "    print(\"Download finalizado com sucesso!\")"
   ]
  },
  {
   "cell_type": "code",
   "execution_count": null,
   "id": "1da9f1a7-6c67-4e90-b34b-68bdadf2301a",
   "metadata": {},
   "outputs": [],
   "source": []
  }
 ],
 "metadata": {
  "kernelspec": {
   "display_name": "Python 3 (ipykernel)",
   "language": "python",
   "name": "python3"
  },
  "language_info": {
   "codemirror_mode": {
    "name": "ipython",
    "version": 3
   },
   "file_extension": ".py",
   "mimetype": "text/x-python",
   "name": "python",
   "nbconvert_exporter": "python",
   "pygments_lexer": "ipython3",
   "version": "3.7.3"
  }
 },
 "nbformat": 4,
 "nbformat_minor": 5
}
