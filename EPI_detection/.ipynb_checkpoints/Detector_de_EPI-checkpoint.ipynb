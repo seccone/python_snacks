{
 "cells": [
  {
   "cell_type": "code",
   "execution_count": 10,
   "id": "f24812d2-1a95-493c-8995-ad78a48aa24b",
   "metadata": {},
   "outputs": [],
   "source": [
    "from ultralyticsplus import YOLO, render_result\n",
    "import os"
   ]
  },
  {
   "cell_type": "code",
   "execution_count": 11,
   "id": "59d6a4a0-3e81-4b10-a855-94d940d808ac",
   "metadata": {},
   "outputs": [],
   "source": [
    "IMG_PATH = 'data/'\n",
    "# Get only the files in the IMG_PATH directory:\n",
    "IMG_FILES = [IMG_PATH+name for name in os.listdir(IMG_PATH) if os.path.isfile(IMG_PATH+name)]"
   ]
  },
  {
   "cell_type": "code",
   "execution_count": 12,
   "id": "03acfd94-b342-4d09-9cfb-a3a40dbfdd44",
   "metadata": {},
   "outputs": [
    {
     "data": {
      "text/plain": [
       "{0: 'data/trabalhadores0003.png',\n",
       " 1: 'data/trabalhadores0001.png',\n",
       " 2: 'data/trabalhadores0004.webp',\n",
       " 3: 'data/trabalhadores0005.webp',\n",
       " 4: 'data/trabalhadores0002.jpeg'}"
      ]
     },
     "execution_count": 12,
     "metadata": {},
     "output_type": "execute_result"
    }
   ],
   "source": [
    "{n: f for n, f in enumerate(IMG_FILES)}"
   ]
  },
  {
   "cell_type": "code",
   "execution_count": 13,
   "id": "b804a8e9-d65f-46e0-9d78-28bd934b024a",
   "metadata": {},
   "outputs": [],
   "source": [
    "# load model\n",
    "model = YOLO('keremberke/yolov8m-protective-equipment-detection')\n"
   ]
  },
  {
   "cell_type": "code",
   "execution_count": 116,
   "id": "e470ae6c-f525-47ff-b26f-99b01a2da77f",
   "metadata": {},
   "outputs": [],
   "source": [
    "# set model parameters\n",
    "model.overrides['conf'] = 0.25  # NMS confidence threshold\n",
    "model.overrides['iou'] = 0.50  # NMS IoU threshold\n",
    "model.overrides['agnostic_nms'] = False  # NMS class-agnostic\n",
    "model.overrides['max_det'] = 1000  # maximum number of detections per image"
   ]
  },
  {
   "cell_type": "code",
   "execution_count": 117,
   "id": "7784b567-d2e1-4e28-afc4-2a9d1ce7e996",
   "metadata": {},
   "outputs": [],
   "source": [
    "# set image\n",
    "image = IMG_FILES[3]\n"
   ]
  },
  {
   "cell_type": "code",
   "execution_count": 118,
   "id": "cd06cb21-a6c5-4abe-99fd-40c761d21fa2",
   "metadata": {},
   "outputs": [
    {
     "name": "stderr",
     "output_type": "stream",
     "text": [
      "\n",
      "image 1/1 /home/antigo/projects/EPI_detection/data/trabalhadores0005.webp: 448x640 (no detections), 179.6ms\n",
      "Speed: 5.0ms preprocess, 179.6ms inference, 2.0ms postprocess per image at shape (1, 3, 640, 640)\n"
     ]
    }
   ],
   "source": [
    "# perform inference\n",
    "results = model.predict(image)\n"
   ]
  },
  {
   "cell_type": "code",
   "execution_count": 119,
   "id": "dcf65087-e1b5-4ed6-8c44-67540f1f6351",
   "metadata": {},
   "outputs": [
    {
     "name": "stdout",
     "output_type": "stream",
     "text": [
      "tensor([], device='cuda:0', size=(0, 6))\n"
     ]
    }
   ],
   "source": [
    "# observe results\n",
    "print(results[0].boxes)\n",
    "render = render_result(model=model, image=image, result=results[0])"
   ]
  },
  {
   "cell_type": "code",
   "execution_count": 120,
   "id": "6d814e72-1f3c-47f6-9135-c79eb4cf663b",
   "metadata": {},
   "outputs": [
    {
     "name": "stderr",
     "output_type": "stream",
     "text": [
      "Failed to execute child process “dbus-launch” (No such file or directory)\n",
      "\n",
      "(gimp-2.10:10219): Gtk-WARNING **: 22:55:28.431: Unable to locate theme engine in module_path: \"pixmap\",\n",
      "\n",
      "(gimp-2.10:10219): Gtk-WARNING **: 22:55:28.432: Unable to locate theme engine in module_path: \"pixmap\",\n",
      "\n",
      "(gimp-2.10:10219): Gtk-WARNING **: 22:55:28.432: Unable to locate theme engine in module_path: \"pixmap\",\n",
      "\n",
      "(gimp-2.10:10219): Gtk-WARNING **: 22:55:28.433: Unable to locate theme engine in module_path: \"pixmap\",\n",
      "\n",
      "(gimp-2.10:10219): Gtk-WARNING **: 22:55:28.433: Unable to locate theme engine in module_path: \"pixmap\",\n",
      "\n",
      "(gimp-2.10:10219): Gtk-WARNING **: 22:55:28.433: Unable to locate theme engine in module_path: \"pixmap\",\n",
      "\n",
      "(gimp-2.10:10219): Gtk-WARNING **: 22:55:28.434: Unable to locate theme engine in module_path: \"pixmap\",\n",
      "\n",
      "(gimp-2.10:10219): Gtk-WARNING **: 22:55:28.434: Unable to locate theme engine in module_path: \"pixmap\",\n",
      "\n",
      "(gimp-2.10:10219): Gtk-WARNING **: 22:55:28.434: Unable to locate theme engine in module_path: \"pixmap\",\n",
      "\n",
      "(gimp-2.10:10219): Gtk-WARNING **: 22:55:28.434: Unable to locate theme engine in module_path: \"pixmap\",\n",
      "\n",
      "(gimp-2.10:10219): Gtk-WARNING **: 22:55:28.435: Unable to locate theme engine in module_path: \"pixmap\",\n",
      "\n",
      "(gimp-2.10:10219): Gtk-WARNING **: 22:55:28.435: Unable to locate theme engine in module_path: \"pixmap\",\n",
      "\n",
      "(gimp-2.10:10219): Gtk-WARNING **: 22:55:28.436: Unable to locate theme engine in module_path: \"pixmap\",\n",
      "\n",
      "(gimp-2.10:10219): Gtk-WARNING **: 22:55:28.436: Unable to locate theme engine in module_path: \"pixmap\",\n",
      "\n",
      "(gimp-2.10:10219): Gtk-WARNING **: 22:55:28.436: Unable to locate theme engine in module_path: \"pixmap\",\n",
      "\n",
      "(gimp-2.10:10219): Gtk-WARNING **: 22:55:28.436: Unable to locate theme engine in module_path: \"pixmap\",\n",
      "\n",
      "(gimp-2.10:10219): Gtk-WARNING **: 22:55:28.436: Unable to locate theme engine in module_path: \"pixmap\",\n",
      "\n",
      "(gimp-2.10:10219): Gtk-WARNING **: 22:55:28.436: Unable to locate theme engine in module_path: \"pixmap\",\n",
      "\n",
      "(gimp-2.10:10219): Gtk-WARNING **: 22:55:28.436: Unable to locate theme engine in module_path: \"pixmap\",\n",
      "\n",
      "(gimp-2.10:10219): Gtk-WARNING **: 22:55:28.436: Unable to locate theme engine in module_path: \"pixmap\",\n",
      "\n",
      "(gimp-2.10:10219): Gtk-WARNING **: 22:55:28.437: Unable to locate theme engine in module_path: \"pixmap\",\n",
      "\n",
      "(gimp-2.10:10219): Gtk-WARNING **: 22:55:28.437: Unable to locate theme engine in module_path: \"pixmap\",\n",
      "\n",
      "(gimp-2.10:10219): Gtk-WARNING **: 22:55:28.437: Unable to locate theme engine in module_path: \"pixmap\",\n",
      "\n",
      "(gimp-2.10:10219): Gtk-WARNING **: 22:55:28.437: Unable to locate theme engine in module_path: \"pixmap\",\n",
      "\n",
      "(gimp-2.10:10219): Gtk-WARNING **: 22:55:28.437: Unable to locate theme engine in module_path: \"pixmap\",\n",
      "\n",
      "(gimp-2.10:10219): Gtk-WARNING **: 22:55:28.437: Unable to locate theme engine in module_path: \"pixmap\",\n",
      "\n",
      "(gimp-2.10:10219): Gtk-WARNING **: 22:55:28.437: Unable to locate theme engine in module_path: \"pixmap\",\n",
      "\n",
      "(gimp-2.10:10219): Gtk-WARNING **: 22:55:28.437: Unable to locate theme engine in module_path: \"pixmap\",\n",
      "\n",
      "(gimp-2.10:10219): Gtk-WARNING **: 22:55:28.437: Unable to locate theme engine in module_path: \"pixmap\",\n",
      "\n",
      "(gimp-2.10:10219): Gtk-WARNING **: 22:55:28.438: Unable to locate theme engine in module_path: \"pixmap\",\n",
      "\n",
      "(gimp-2.10:10219): Gtk-WARNING **: 22:55:28.438: Unable to locate theme engine in module_path: \"pixmap\",\n",
      "gui_dbus_name_lost: connection to the bus cannot be established.\n",
      "\n",
      "(file-png:10268): Gtk-WARNING **: 22:55:31.849: Unable to locate theme engine in module_path: \"pixmap\",\n",
      "\n",
      "(file-png:10268): Gtk-WARNING **: 22:55:31.850: Unable to locate theme engine in module_path: \"pixmap\",\n",
      "\n",
      "(file-png:10268): Gtk-WARNING **: 22:55:31.850: Unable to locate theme engine in module_path: \"pixmap\",\n",
      "\n",
      "(file-png:10268): Gtk-WARNING **: 22:55:31.850: Unable to locate theme engine in module_path: \"pixmap\",\n",
      "\n",
      "(file-png:10268): Gtk-WARNING **: 22:55:31.851: Unable to locate theme engine in module_path: \"pixmap\",\n",
      "\n",
      "(file-png:10268): Gtk-WARNING **: 22:55:31.851: Unable to locate theme engine in module_path: \"pixmap\",\n",
      "\n",
      "(file-png:10268): Gtk-WARNING **: 22:55:31.851: Unable to locate theme engine in module_path: \"pixmap\",\n",
      "\n",
      "(file-png:10268): Gtk-WARNING **: 22:55:31.851: Unable to locate theme engine in module_path: \"pixmap\",\n",
      "\n",
      "(file-png:10268): Gtk-WARNING **: 22:55:31.852: Unable to locate theme engine in module_path: \"pixmap\",\n",
      "\n",
      "(file-png:10268): Gtk-WARNING **: 22:55:31.852: Unable to locate theme engine in module_path: \"pixmap\",\n",
      "\n",
      "(file-png:10268): Gtk-WARNING **: 22:55:31.852: Unable to locate theme engine in module_path: \"pixmap\",\n",
      "\n",
      "(file-png:10268): Gtk-WARNING **: 22:55:31.852: Unable to locate theme engine in module_path: \"pixmap\",\n",
      "\n",
      "(file-png:10268): Gtk-WARNING **: 22:55:31.853: Unable to locate theme engine in module_path: \"pixmap\",\n",
      "\n",
      "(file-png:10268): Gtk-WARNING **: 22:55:31.853: Unable to locate theme engine in module_path: \"pixmap\",\n",
      "\n",
      "(file-png:10268): Gtk-WARNING **: 22:55:31.853: Unable to locate theme engine in module_path: \"pixmap\",\n",
      "\n",
      "(file-png:10268): Gtk-WARNING **: 22:55:31.853: Unable to locate theme engine in module_path: \"pixmap\",\n",
      "\n",
      "(file-png:10268): Gtk-WARNING **: 22:55:31.853: Unable to locate theme engine in module_path: \"pixmap\",\n",
      "\n",
      "(file-png:10268): Gtk-WARNING **: 22:55:31.853: Unable to locate theme engine in module_path: \"pixmap\",\n",
      "\n",
      "(file-png:10268): Gtk-WARNING **: 22:55:31.854: Unable to locate theme engine in module_path: \"pixmap\",\n",
      "\n",
      "(file-png:10268): Gtk-WARNING **: 22:55:31.854: Unable to locate theme engine in module_path: \"pixmap\",\n",
      "\n",
      "(file-png:10268): Gtk-WARNING **: 22:55:31.854: Unable to locate theme engine in module_path: \"pixmap\",\n",
      "\n",
      "(file-png:10268): Gtk-WARNING **: 22:55:31.854: Unable to locate theme engine in module_path: \"pixmap\",\n",
      "\n",
      "(file-png:10268): Gtk-WARNING **: 22:55:31.855: Unable to locate theme engine in module_path: \"pixmap\",\n",
      "\n",
      "(file-png:10268): Gtk-WARNING **: 22:55:31.855: Unable to locate theme engine in module_path: \"pixmap\",\n",
      "\n",
      "(file-png:10268): Gtk-WARNING **: 22:55:31.855: Unable to locate theme engine in module_path: \"pixmap\",\n",
      "\n",
      "(file-png:10268): Gtk-WARNING **: 22:55:31.855: Unable to locate theme engine in module_path: \"pixmap\",\n",
      "\n",
      "(file-png:10268): Gtk-WARNING **: 22:55:31.856: Unable to locate theme engine in module_path: \"pixmap\",\n",
      "\n",
      "(file-png:10268): Gtk-WARNING **: 22:55:31.856: Unable to locate theme engine in module_path: \"pixmap\",\n",
      "\n",
      "(file-png:10268): Gtk-WARNING **: 22:55:31.856: Unable to locate theme engine in module_path: \"pixmap\",\n",
      "\n",
      "(file-png:10268): Gtk-WARNING **: 22:55:31.856: Unable to locate theme engine in module_path: \"pixmap\",\n",
      "\n",
      "(file-png:10268): Gtk-WARNING **: 22:55:31.856: Unable to locate theme engine in module_path: \"pixmap\",\n"
     ]
    }
   ],
   "source": [
    "render.show()"
   ]
  },
  {
   "cell_type": "code",
   "execution_count": null,
   "id": "6d3364b7-5a5d-4914-b688-6180c3c7d8c6",
   "metadata": {},
   "outputs": [],
   "source": []
  }
 ],
 "metadata": {
  "kernelspec": {
   "display_name": "Python 3 (ipykernel)",
   "language": "python",
   "name": "python3"
  },
  "language_info": {
   "codemirror_mode": {
    "name": "ipython",
    "version": 3
   },
   "file_extension": ".py",
   "mimetype": "text/x-python",
   "name": "python",
   "nbconvert_exporter": "python",
   "pygments_lexer": "ipython3",
   "version": "3.11.1"
  }
 },
 "nbformat": 4,
 "nbformat_minor": 5
}
