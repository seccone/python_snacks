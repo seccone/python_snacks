{
 "cells": [
  {
   "cell_type": "markdown",
   "id": "8fb13d55-ad5d-42ea-8ef2-5daa3bba5998",
   "metadata": {},
   "source": [
    "2021-08-20 - Ricardo Freire\n",
    "\n",
    "# Problema de Monty Hall:\n",
    "\n",
    "Este é um problema de lógica que é contraintuitivoo, e até hoje causa polêmica porque as pessoas simplesmente não conseguem aceitar a reposta correta, que parece absurda... :)\n",
    "A descrição mais comum é a seguinte:\n",
    "\n",
    "1) Num programa da TV americana nos anos 70 (\"Let's Make a Deal\"), o apresentador Monty Hall apresentava 3 portas para o participante. Atrás de uma das portas havia um prêmio valioso (um carro), e atrás das outras duas, um prêmio de pouco valor (uma cabra).\n",
    "2) O participante escolhia uma das 3 portas. Então o apresentador (que sabia qual a porta com o prêmio de alto valor) abria uma das duas portas restantes, revelando sempre um cacho de bananas.\n",
    "3) Então o participante sabia que o carro estaria ou na porta escolhida inicialmente, ou na porta que o apresentador deixou fechada. \n",
    "4) Nesse ponto, o apresentador perguntava ao participante: \"Quer trocar de porta?\"\n",
    "5) A pergunta que gera toda a polêmica é a seguinte:\n",
    "    Qual a melhor alternativa de ação para o participante:\n",
    "        a) Tanto faz trocar ou não, as chances serão iguais\n",
    "        b) É melhor ele trocar de porta, isso aumenta a chance dele ganhar\n",
    "        c) É melhor ele não trocar de porta, isso aumenta a chance dele ganhar\n",
    "...\n",
    "6) A resposta correta é \"b\", porque ele tem o dobro de chance de ganhar se trocar de porta!\n",
    "\n",
    "Para entender por que o melhor curso de ação é trocar a escolha inicial, é preciso avaliar o problema sob o ponto de vista da lógica bayesiana, analisando as probabilidades _a priori_ e _a posteriori_. Lembrando que _o apresentador sabe qual a porta correta!_ Isso faz toda a diferença.\n",
    "\n",
    "(Para ajudar no entendimento, ao invés de 3 portas, imagine que são 100 portas, e depis da escolha inicial do participante (em que ele teria 1% de chance de acertar), o apresentador <b>abre as outras 98 portas</b>, deixando apenas 1 para ele escolher ou não. Com isso, a propabilidade dele acertar ao mudar sobe para 99%!)"
   ]
  },
  {
   "cell_type": "markdown",
   "id": "c36d913d-bf50-430f-9e69-8b8a6030aaf7",
   "metadata": {},
   "source": [
    "* Este pequeno programa simula diversas edições do programa (variável ITERATIONS), e efetivamente soma as vitórias obtidas pelo \"participante\" após trocar a porta, e sem trocar a porta. Ao final, apresenta os percentuais de acerto de cada estratégia."
   ]
  },
  {
   "cell_type": "code",
   "execution_count": 1,
   "id": "5aa26bda-7bd5-42d0-8d4a-b049acf2c7a5",
   "metadata": {},
   "outputs": [],
   "source": [
    "from random import randint, choice\n",
    "\n",
    "# Quantidade de \"edições\" do jogo. \n",
    "# Valores menores apresentarão mais variação em relação aos \n",
    "# percentuais estatisticamente calculados, o que obviamente é de se esperar.\n",
    "ITERATIONS = 10000\n",
    "\n",
    "# Define-se aqui a quantidade de portas. Interessante notar algumas probabilidades:\n",
    "# portas = 2 -> chances iguais ~(50/50%), então não importa qual a ação do participante!\n",
    "# portas = 3 -> ~66% de chance de ganhar se trocar, ~33% se não trocar\n",
    "# portas = 4 -> ~75% de chance de ganhar se trocar, ~25% se não trocar\n",
    "# portas = 100 -> ~99% de chance de ganhar se trocar, ~1% se não trocar\n",
    "# ...\n",
    "# Percebe-se o padrão: a chance de ganhar é sempre de (100-100/num_portas)%\n",
    "NUM_PORTAS = 3"
   ]
  },
  {
   "cell_type": "code",
   "execution_count": 2,
   "id": "f4a9bbc7-d81d-4060-817b-9fdb0ae2d3df",
   "metadata": {},
   "outputs": [],
   "source": [
    "def game(num_portas, premio, palpite, troca=False):\n",
    "    \"\"\"Faz a troca da porta se solicitado, e retorna True se o palpite final \n",
    "        abre a porta tem o prêmio ou a porta sem prêmio\"\"\"\n",
    "\n",
    "    # Esta linha abaixo simula a abertura de todas as portas menos uma, por parte do apresentador.\n",
    "    # Efetivamente,se o palpite inicial do participante NÃO contém o prêmio, o apresentador ooferece\n",
    "    # a porta com o prêmio. Caso contrário, oferece qualquer outra porta aleatória: \n",
    "    oferta = premio if palpite!=premio else choice([p for p in range(num_portas) if p!=palpite])\n",
    "\n",
    "    # Se o particpante pediu para trocar, o palpite dele passa a ser a porta ofertada pelo apresentador:\n",
    "    if troca:\n",
    "        palpite = oferta\n",
    "        \n",
    "    return palpite==premio # Retorna True se o participante ganhou o prêmio\n"
   ]
  },
  {
   "cell_type": "code",
   "execution_count": 3,
   "id": "5a263c9d-97c6-49f0-8f2d-36fa1924d677",
   "metadata": {},
   "outputs": [
    {
     "name": "stdout",
     "output_type": "stream",
     "text": [
      "Sem trocas, a taxa de sucesso foi de 32.75%.\n",
      "Com trocas, a taxa de sucesso foi de 67.25%.\n"
     ]
    }
   ],
   "source": [
    "sem_troca = com_troca = 0\n",
    "\n",
    "for i in range(ITERATIONS): # Lembre-se de usar sempre um número grande de iterações!\n",
    "    palpite = randint(0, NUM_PORTAS-1)\n",
    "    premio = randint(0, NUM_PORTAS-1)\n",
    "    \n",
    "    # Definida a escolha inicial e a porta com o prêmio, a função game() verifica se o participante ganhou\n",
    "    # em cada caso hipotético:\n",
    "    \n",
    "    # Sem trocar de porta após a oferta do apresentador:\n",
    "    if game(NUM_PORTAS, premio, palpite, troca=False):\n",
    "        sem_troca += 1\n",
    "        \n",
    "    # Trocando de porta:\n",
    "    if game(NUM_PORTAS, premio, palpite, troca=True):\n",
    "        com_troca += 1\n",
    "    \n",
    "print(\"Sem trocas, a taxa de sucesso foi de {}%.\".format(sem_troca/ITERATIONS*100))\n",
    "print(\"Com trocas, a taxa de sucesso foi de {}%.\".format(com_troca/ITERATIONS*100))"
   ]
  }
 ],
 "metadata": {
  "kernelspec": {
   "display_name": "Python 3 (ipykernel)",
   "language": "python",
   "name": "python3"
  },
  "language_info": {
   "codemirror_mode": {
    "name": "ipython",
    "version": 3
   },
   "file_extension": ".py",
   "mimetype": "text/x-python",
   "name": "python",
   "nbconvert_exporter": "python",
   "pygments_lexer": "ipython3",
   "version": "3.7.3"
  }
 },
 "nbformat": 4,
 "nbformat_minor": 5
}
